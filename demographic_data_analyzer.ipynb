{
  "nbformat": 4,
  "nbformat_minor": 0,
  "metadata": {
    "colab": {
      "provenance": [],
      "mount_file_id": "1wGmDO8Odid8otoQNC7TqZ72ay9oofskI",
      "authorship_tag": "ABX9TyPW9LXEw5hqd6pw2tfnT2bm",
      "include_colab_link": true
    },
    "kernelspec": {
      "name": "python3",
      "display_name": "Python 3"
    },
    "language_info": {
      "name": "python"
    }
  },
  "cells": [
    {
      "cell_type": "markdown",
      "metadata": {
        "id": "view-in-github",
        "colab_type": "text"
      },
      "source": [
        "<a href=\"https://colab.research.google.com/github/VikasAmlaha/VikasAmlaha/blob/main/demographic_data_analyzer.ipynb\" target=\"_parent\"><img src=\"https://colab.research.google.com/assets/colab-badge.svg\" alt=\"Open In Colab\"/></a>"
      ]
    },
    {
      "cell_type": "code",
      "execution_count": 2,
      "metadata": {
        "id": "q3i7K1HSoJtM"
      },
      "outputs": [],
      "source": [
        "import numpy as np\n",
        "import pandas as pd\n",
        "import matplotlib.pyplot as plt\n",
        "import seaborn as sns"
      ]
    },
    {
      "cell_type": "code",
      "source": [
        "df = pd.read_csv('adult.csv')"
      ],
      "metadata": {
        "id": "WpD8OwsIt8Of"
      },
      "execution_count": 3,
      "outputs": []
    },
    {
      "cell_type": "markdown",
      "source": [
        "### 1. To determine how many people of each race are represented in a dataset"
      ],
      "metadata": {
        "id": "EHobXqhNvhUx"
      }
    },
    {
      "cell_type": "code",
      "source": [
        "# Count the occurrences of each race in the 'race' column\n",
        "race_counts = df['race'].value_counts()\n",
        "\n",
        "# Display the result\n",
        "print(race_counts)"
      ],
      "metadata": {
        "colab": {
          "base_uri": "https://localhost:8080/"
        },
        "id": "sC8TImQWutLQ",
        "outputId": "9e52b9d8-fa03-4d04-c85b-c3946ca64681"
      },
      "execution_count": 4,
      "outputs": [
        {
          "output_type": "stream",
          "name": "stdout",
          "text": [
            "race\n",
            "White                 27816\n",
            "Black                  3124\n",
            "Asian-Pac-Islander     1039\n",
            "Amer-Indian-Eskimo      311\n",
            "Other                   271\n",
            "Name: count, dtype: int64\n"
          ]
        }
      ]
    },
    {
      "cell_type": "markdown",
      "source": [
        "### 2. What is the average age of men?"
      ],
      "metadata": {
        "id": "G03i5xhNywfK"
      }
    },
    {
      "cell_type": "code",
      "source": [
        "# Calculate the mean of the 'age' column for rows where 'sex' is 'Male'\n",
        "mean_age_male = df.loc[df['sex'] == 'Male', 'age'].mean()\n",
        "\n",
        "print(f\"Average age of Men: {mean_age_male:.2f}\")"
      ],
      "metadata": {
        "colab": {
          "base_uri": "https://localhost:8080/"
        },
        "id": "qA-lbnQrwzR_",
        "outputId": "a1a9407d-b781-4b7f-e1fc-ae0a0b3faa40"
      },
      "execution_count": 5,
      "outputs": [
        {
          "output_type": "stream",
          "name": "stdout",
          "text": [
            "Average age of Men: 39.43\n"
          ]
        }
      ]
    },
    {
      "cell_type": "code",
      "source": [
        "# Calculate the percentage of 'Bachelors'\n",
        "percentage_bachelors = (df['education'] == 'Bachelors').mean() * 100\n",
        "print(f\"Percentage of Bachelor's: {percentage_bachelors:.2f}%\")\n"
      ],
      "metadata": {
        "colab": {
          "base_uri": "https://localhost:8080/"
        },
        "id": "REHkat5lz4MG",
        "outputId": "4e5c4f2f-d328-4f6b-f222-86409d98bda5"
      },
      "execution_count": 6,
      "outputs": [
        {
          "output_type": "stream",
          "name": "stdout",
          "text": [
            "Percentage of Bachelor's: 16.45%\n"
          ]
        }
      ]
    },
    {
      "cell_type": "markdown",
      "source": [
        "### 3. What percentage of people with advanced education (Bachelors, Masters, or Doctorate) make more than 50K?"
      ],
      "metadata": {
        "id": "y4KjJz0qmIfk"
      }
    },
    {
      "cell_type": "code",
      "source": [
        "percentage_make_more_than_50k = (\n",
        "    len(df[(df['income'] == '>50K') & (df['education'].isin(['Bachelors', 'Masters', 'Doctorate']))])\n",
        "    / len(df)\n",
        ") * 100\n",
        "\n",
        "print(f\"Percentage of people with advanced education making more than 50K: {percentage_make_more_than_50k:.2f}%\")\n"
      ],
      "metadata": {
        "colab": {
          "base_uri": "https://localhost:8080/"
        },
        "id": "MFabQauLl4Hg",
        "outputId": "1cf2d88e-7580-4b56-a792-687eb7513c4f"
      },
      "execution_count": 18,
      "outputs": [
        {
          "output_type": "stream",
          "name": "stdout",
          "text": [
            "Percentage of people with advanced education making more than 50K: 13.37%\n"
          ]
        }
      ]
    },
    {
      "cell_type": "markdown",
      "source": [
        "### 4. What percentage of people without advanced education make more than 50K?"
      ],
      "metadata": {
        "id": "aQusI8Erpelc"
      }
    },
    {
      "cell_type": "code",
      "source": [
        "# Define what counts as advanced education\n",
        "advanced_education = ['Bachelors', 'Masters', 'Doctorate']\n",
        "\n",
        "# Filter for people without advanced education\n",
        "without_advanced_education = df[~df['education'].isin(advanced_education)]\n",
        "\n",
        "# Calculate the percentage of people without advanced education who make more than 50K\n",
        "percentage_without_advanced_education = (\n",
        "    len(without_advanced_education[without_advanced_education['income'] == '>50K'])\n",
        "    / len(without_advanced_education)\n",
        ") * 100\n",
        "\n",
        "print(f\"Percentage of people without advanced education making more than 50K: {percentage_without_advanced_education:.2f}%\")\n"
      ],
      "metadata": {
        "colab": {
          "base_uri": "https://localhost:8080/"
        },
        "id": "4sHFuSW0pZG8",
        "outputId": "65e02594-c03f-4d42-8145-bd962463007c"
      },
      "execution_count": 19,
      "outputs": [
        {
          "output_type": "stream",
          "name": "stdout",
          "text": [
            "Percentage of people without advanced education making more than 50K: 17.37%\n"
          ]
        }
      ]
    },
    {
      "cell_type": "markdown",
      "source": [
        "### 5. What is the minimum number of hours a person works per week?"
      ],
      "metadata": {
        "id": "zSgfBPxXroUx"
      }
    },
    {
      "cell_type": "code",
      "source": [
        "min_hours_work_per_week = df['hours.per.week'].min()\n",
        "print(f\"Minimum number of hours a person works per week: {min_hours_work_per_week}\")\n",
        "\n"
      ],
      "metadata": {
        "colab": {
          "base_uri": "https://localhost:8080/"
        },
        "id": "1wqL8vA7rwck",
        "outputId": "fc67611e-891f-42af-9c83-93540090225d"
      },
      "execution_count": 22,
      "outputs": [
        {
          "output_type": "stream",
          "name": "stdout",
          "text": [
            "Minimum number of hours a person works per week: 1\n"
          ]
        }
      ]
    },
    {
      "cell_type": "markdown",
      "source": [
        "### 6. What percentage of the people who work the minimum number of hours per week have a salary of more than 50K?"
      ],
      "metadata": {
        "id": "dHXow68uuZ8t"
      }
    },
    {
      "cell_type": "code",
      "source": [
        "min_hours_work_per_week_salary50k = len(df[df['hours.per.week'].min() & (df['income'] == '>50K')])/len(df) * 100\n",
        "print(f\"percentage of the people who work the minimum number of hours per week have a salary of more than 50K: {min_hours_work_per_week_salary50k:.2f}%\")"
      ],
      "metadata": {
        "colab": {
          "base_uri": "https://localhost:8080/"
        },
        "id": "HjIt_KBgufGU",
        "outputId": "0426b8e0-4542-4701-c328-6814866f6808"
      },
      "execution_count": 28,
      "outputs": [
        {
          "output_type": "stream",
          "name": "stdout",
          "text": [
            "percentage of the people who work the minimum number of hours per week have a salary of more than 50K: 24.08%\n"
          ]
        }
      ]
    },
    {
      "cell_type": "markdown",
      "source": [
        "### 7. What country has the highest percentage of people that earn >50K and what is that percentage?"
      ],
      "metadata": {
        "id": "OuLcPNMAwUhG"
      }
    },
    {
      "cell_type": "code",
      "source": [
        "highest_percentage_country_50k = df[df['income'] == '>50K']['native.country'].value_counts(normalize=True).idxmax()\n",
        "highest_percentage_value_50k = df[df['income'] == '>50K']['native.country'].value_counts(normalize=True).max() * 100\n",
        "\n",
        "print(f\"The country with the highest percentage of >50K earners is {highest_percentage_country_50k} with {highest_percentage_value_50k:.2f}%.\")\n"
      ],
      "metadata": {
        "colab": {
          "base_uri": "https://localhost:8080/"
        },
        "id": "_cYstUlQwd7E",
        "outputId": "4cdcf1a5-f9a3-4701-e476-27121e19c6bd"
      },
      "execution_count": 32,
      "outputs": [
        {
          "output_type": "stream",
          "name": "stdout",
          "text": [
            "The country with the highest percentage of >50K earners is United-States with 91.46%.\n"
          ]
        }
      ]
    },
    {
      "cell_type": "markdown",
      "source": [
        "### 8. Identify the most popular occupation for those who earn >50K in India."
      ],
      "metadata": {
        "id": "XZju8GDrzdt0"
      }
    },
    {
      "cell_type": "code",
      "source": [
        "population_occupation_india_50k = df[(df['native.country'] == 'India') & (df['income'] == '>50K')]['occupation'].value_counts().idxmax()\n",
        "print(f\"The most popular occupation for those who earn >50K in India is {population_occupation_india_50k}.\")"
      ],
      "metadata": {
        "colab": {
          "base_uri": "https://localhost:8080/"
        },
        "id": "wXNI627KzhND",
        "outputId": "99bda531-4c6a-482d-b54e-e785263de315"
      },
      "execution_count": 35,
      "outputs": [
        {
          "output_type": "stream",
          "name": "stdout",
          "text": [
            "The most popular occupation for those who earn >50K in India is Prof-specialty.\n"
          ]
        }
      ]
    },
    {
      "cell_type": "code",
      "source": [],
      "metadata": {
        "id": "xeaXMgBmmXhN"
      },
      "execution_count": 34,
      "outputs": []
    },
    {
      "cell_type": "markdown",
      "source": [],
      "metadata": {
        "id": "_UOYTc0kl5cE"
      }
    }
  ]
}